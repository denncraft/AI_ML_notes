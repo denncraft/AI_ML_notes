{
  "nbformat": 4,
  "nbformat_minor": 0,
  "metadata": {
    "colab": {
      "provenance": [],
      "authorship_tag": "ABX9TyPKbKjELY2gWcWoSkggBTij",
      "include_colab_link": true
    },
    "kernelspec": {
      "name": "python3",
      "display_name": "Python 3"
    },
    "language_info": {
      "name": "python"
    }
  },
  "cells": [
    {
      "cell_type": "markdown",
      "metadata": {
        "id": "view-in-github",
        "colab_type": "text"
      },
      "source": [
        "<a href=\"https://colab.research.google.com/github/denncraft/AI_ML_notes/blob/main/Deep_Learning_2023_chapter02.ipynb\" target=\"_parent\"><img src=\"https://colab.research.google.com/assets/colab-badge.svg\" alt=\"Open In Colab\"/></a>"
      ]
    },
    {
      "cell_type": "code",
      "execution_count": 118,
      "metadata": {
        "id": "TlBUrdDyi9mT"
      },
      "outputs": [],
      "source": [
        "import tensorflow as tf"
      ]
    },
    {
      "cell_type": "code",
      "source": [
        "class NaiveDense:\n",
        "  def __init__(self, input_size, output_size, activation):\n",
        "    self.activation = activation\n",
        "\n",
        "    # создается матрица коэффициентов W с формой (input_size, output_size) и инициализируется случайными значениями\n",
        "    w_shape = (input_size, output_size)\n",
        "    w_initial_value = tf.random.uniform(w_shape, minval=0, maxval=1e-1)\n",
        "    self.W = tf.Variable(w_initial_value)\n",
        "    # создается вектор b с формой (output_size) и инициализируется нулями\n",
        "    b_shape = (output_size,)\n",
        "    b_initial_value = tf.zeros(b_shape)\n",
        "    self.b = tf.Variable(b_initial_value)\n",
        "\n",
        "  # создается метод запуска прямого прохода\n",
        "  def __call__(self, inputs):\n",
        "    return self.activation(tf.matmul(inputs, self.W) + self.b)\n",
        "\n",
        "  # создается вспомогательный метод для получения весов из слоя\n",
        "  @property\n",
        "  def weights(self):\n",
        "    return [self.W, self.b]\n",
        "\n",
        "# класс объединяющий слои в цепочку. он берет список слоев и реализует\n",
        "# метод __call__ который просто вызывает по порядку слои в этом списке,\n",
        "# передавая входные данные. он также имеет свойство weights, упрощающее\n",
        "# наблюдение за весами.\n",
        "class NaiveSequential:\n",
        "  def __init__(self, layers):\n",
        "    self.layers = layers\n",
        "\n",
        "  def __call__(self, inputs):\n",
        "    x = inputs\n",
        "    for layer in self.layers:\n",
        "      x = layer(x)\n",
        "    return x\n",
        "\n",
        "  @property\n",
        "  def weights(self):\n",
        "    weights = []\n",
        "    for layer in self.layers:\n",
        "      weights += layer.weights\n",
        "    return weights"
      ],
      "metadata": {
        "id": "SuDUMXA4GsOH"
      },
      "execution_count": 119,
      "outputs": []
    },
    {
      "cell_type": "code",
      "source": [
        "# с помощью классов NaiveDense и NaiveSequential создется имитация модели Keras\n",
        "model = NaiveSequential([\n",
        "    NaiveDense(input_size=28 * 28, output_size=512, activation=tf.nn.relu),\n",
        "    NaiveDense(input_size=512, output_size=10, activation=tf.nn.softmax)\n",
        "])\n",
        "assert len(model.weights) == 4"
      ],
      "metadata": {
        "id": "-scmPDICKgQ6"
      },
      "execution_count": 120,
      "outputs": []
    },
    {
      "cell_type": "code",
      "source": [
        "import math\n",
        "# генератор пакетов для итерации по пакетам и изображениям из набора MNIST\n",
        "class BatchGenerator:\n",
        "  def __init__(self, images, labels, batch_size=128):\n",
        "    assert len(images) == len(labels)\n",
        "    self.index = 0\n",
        "    self.images = images\n",
        "    self.labels = labels\n",
        "    self.batch_size = batch_size\n",
        "    self.num_batches = math.ceil(len(images) / batch_size)\n",
        "\n",
        "  def next(self):\n",
        "    images = self.images[self.index : self.index + self.batch_size]\n",
        "    labels = self.labels[self.index : self.index + self.batch_size]\n",
        "    self.index += self.batch_size\n",
        "    return images, labels"
      ],
      "metadata": {
        "id": "LUPl5hJJL4dj"
      },
      "execution_count": 121,
      "outputs": []
    },
    {
      "cell_type": "code",
      "source": [
        "# этап обучения, нужно\n",
        "# 1. вычислить прогнозы для изображений в пакете\n",
        "# 2. найти значения потерь для эьтх прогнозов с учетом фактических меток\n",
        "# 3. Вычислить градиент потерь с учетом весов модели\n",
        "# 4. Скорректировать веса на небольшую величину в напрвлении противоположном градиенту\n",
        "\n",
        "def one_training_step(model, images_batch, labels_batch):\n",
        "  with tf.GradientTape() as tape:\n",
        "    # выполняется прямой проход с предсказанием\n",
        "    predictions = model(images_batch)\n",
        "    # вычисляется loss для текущего пакета изображений на основании полученный предсказаний\n",
        "    per_sample_losses = tf.keras.losses.sparse_categorical_crossentropy(\n",
        "        labels_batch, predictions)\n",
        "    # вычисляется средняя величины ошибки\n",
        "    average_loss = tf.reduce_mean(per_sample_losses)\n",
        "    # по среднему loss вычисляется градиент потерь -> список в котором каждое\n",
        "    # значение соответствует весу параметра из model.weights\n",
        "  gradients = tape.gradient(average_loss, model.weights)\n",
        "  # корректировка занчений весов по полученному градиенту потерь\n",
        "  update_weights(gradients, model.weights)\n",
        "  # возврат средней ошики для информации\n",
        "  return average_loss"
      ],
      "metadata": {
        "id": "eU36XTFQTgFe"
      },
      "execution_count": 122,
      "outputs": []
    },
    {
      "cell_type": "code",
      "source": [
        "# константа определяющая скорость обучений\n",
        "learning_rate = 1e-3 # 1*10^-3 = 1*1/10^3 = 1*0,001 = 0,001\n",
        "# функция обновления весов\n",
        "# def update_weights(gradients, weights):\n",
        "#   for g, w in zip(gradients, weights):\n",
        "#     w.assign_sub(g * learning_rate)\n",
        "\n",
        "# в Keras уже есть специальные оптимизаторы, которые делают тоже самое\n",
        "from tensorflow import keras\n",
        "\n",
        "optimizer = keras.optimizers.SGD(learning_rate)\n",
        "\n",
        "def update_weights(gradients, weights):\n",
        "  optimizer.apply_gradients(zip(gradients, weights))"
      ],
      "metadata": {
        "id": "gXj-GuwGV0Sk"
      },
      "execution_count": 129,
      "outputs": []
    },
    {
      "cell_type": "code",
      "source": [
        "# функция обучения, выполняющая цикл из множества повторений one_training_tstep\n",
        "def fit(model, images, labels, epochs, batch_size=128):\n",
        "  # вывод на экран номер исполняемой эпохи\n",
        "  for epoch_counter in range(epochs):\n",
        "    print(f\"Epoch {epoch_counter}\")\n",
        "    # создается генератор пакетов на основе всего датасета\n",
        "    batch_generator = BatchGenerator(images, labels, batch_size)\n",
        "    # цикл пока генератор пакетов отдает пакеты\n",
        "    for batch_counter in range(batch_generator.num_batches):\n",
        "      # получает пакет изображений и соответствующих меток\n",
        "      images_batch, labels_batch = batch_generator.next()\n",
        "      # получает ошибку после шага обучения на текущем пакете изображений\n",
        "      # при этом в ходе обучения выполняется расчет градиент и обновление коэффициентов\n",
        "      loss = one_training_step(model, images_batch, labels_batch)\n",
        "      # вывод на экран результата\n",
        "      if batch_counter % 100 == 0:\n",
        "        print(f\"loss at batch {batch_counter}: {loss:.2f}\")"
      ],
      "metadata": {
        "id": "7-tZp9vkZAHn"
      },
      "execution_count": 124,
      "outputs": []
    },
    {
      "cell_type": "code",
      "source": [
        "from keras.datasets import mnist\n",
        "(train_images, train_labels), (test_images, test_labels) = mnist.load_data()\n",
        "train_images = train_images.reshape((60000, 28 * 28))\n",
        "train_images = train_images.astype(\"float32\") / 255\n",
        "test_images = test_images.reshape((10000, 28 * 28))\n",
        "test_images = test_images.astype(\"float32\") / 255"
      ],
      "metadata": {
        "id": "7pQGF-x8fARA"
      },
      "execution_count": 134,
      "outputs": []
    },
    {
      "cell_type": "code",
      "source": [
        "fit(model, train_images, train_labels, epochs=20, batch_size=250)"
      ],
      "metadata": {
        "id": "NbGu_RyTodga"
      },
      "execution_count": null,
      "outputs": []
    },
    {
      "cell_type": "code",
      "source": [
        "import numpy as np\n",
        "predictions = model(test_images)\n",
        "predictions = predictions.numpy()\n",
        "predicted_labels = np.argmax(predictions, axis=1)\n",
        "matches = predicted_labels == test_labels\n",
        "print(f\"accuracy: {matches.mean():.2f}\")"
      ],
      "metadata": {
        "colab": {
          "base_uri": "https://localhost:8080/"
        },
        "id": "JQrmJddJlUAD",
        "outputId": "804fc910-4d4c-4964-a35c-14eb32e9d02e"
      },
      "execution_count": 141,
      "outputs": [
        {
          "output_type": "stream",
          "name": "stdout",
          "text": [
            "accuracy: 0.84\n"
          ]
        }
      ]
    }
  ]
}