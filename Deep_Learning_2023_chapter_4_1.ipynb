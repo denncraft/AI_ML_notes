{
  "nbformat": 4,
  "nbformat_minor": 0,
  "metadata": {
    "colab": {
      "provenance": [],
      "authorship_tag": "ABX9TyOjdGqprpFbAMUUSaBW5SGz",
      "include_colab_link": true
    },
    "kernelspec": {
      "name": "python3",
      "display_name": "Python 3"
    },
    "language_info": {
      "name": "python"
    }
  },
  "cells": [
    {
      "cell_type": "markdown",
      "metadata": {
        "id": "view-in-github",
        "colab_type": "text"
      },
      "source": [
        "<a href=\"https://colab.research.google.com/github/denncraft/AI_ML_notes/blob/main/Deep_Learning_2023_chapter_4_1.ipynb\" target=\"_parent\"><img src=\"https://colab.research.google.com/assets/colab-badge.svg\" alt=\"Open In Colab\"/></a>"
      ]
    },
    {
      "cell_type": "markdown",
      "source": [
        "##набор данных IMDB\n",
        "\n",
        "содержит 50000 отзывов по фильмам, 25000 обучающих и 25000 конгтрольных"
      ],
      "metadata": {
        "id": "VfKKXhT5IXvk"
      }
    },
    {
      "cell_type": "code",
      "execution_count": 78,
      "metadata": {
        "id": "97xYnw3GIQ99"
      },
      "outputs": [],
      "source": [
        "import tensorflow as tf\n",
        "from tensorflow import keras\n",
        "from keras import layers\n",
        "import numpy as np\n",
        "import matplotlib.pyplot as plt\n",
        "from keras.datasets import imdb\n",
        "\n",
        "# для повторяемости результатов при перезапусках или для сравнения результатов с различными настройками\n",
        "keras.utils.set_random_seed = 123"
      ]
    },
    {
      "cell_type": "code",
      "source": [
        "(train_data, train_labels), (test_data, test_labels) = imdb.load_data(num_words=10000)"
      ],
      "metadata": {
        "id": "NBO9rDeAJNNx"
      },
      "execution_count": 79,
      "outputs": []
    },
    {
      "cell_type": "markdown",
      "source": [
        "каждое слово кажого отзыва о фильме было проиндексировано и занесено в словарь, а словать отсортирован по количеству использования каждого слов\n",
        "`num_words` ограничивает количество слов из словаря выборкой наиболее употребимых слов, таким образом, что все слова имеющие индекс со значением больше указанного заменяются на 2"
      ],
      "metadata": {
        "id": "KOl7MpoyJk9l"
      }
    },
    {
      "cell_type": "code",
      "source": [
        "len(train_data[0])"
      ],
      "metadata": {
        "colab": {
          "base_uri": "https://localhost:8080/"
        },
        "id": "yn5rKHX9KWiT",
        "outputId": "18f0a3a4-2540-44d1-f105-af2ddf74366f"
      },
      "execution_count": 80,
      "outputs": [
        {
          "output_type": "execute_result",
          "data": {
            "text/plain": [
              "218"
            ]
          },
          "metadata": {},
          "execution_count": 80
        }
      ]
    },
    {
      "cell_type": "code",
      "source": [
        "max([max(sequence) for sequence in train_data])"
      ],
      "metadata": {
        "colab": {
          "base_uri": "https://localhost:8080/"
        },
        "id": "biHMhwvPLRo7",
        "outputId": "e3490da8-fad0-4023-9961-d45c49400ff4"
      },
      "execution_count": 81,
      "outputs": [
        {
          "output_type": "execute_result",
          "data": {
            "text/plain": [
              "9999"
            ]
          },
          "metadata": {},
          "execution_count": 81
        }
      ]
    },
    {
      "cell_type": "markdown",
      "source": [
        "декодирование отзыва о фильме из вектора чисел в текст"
      ],
      "metadata": {
        "id": "grfGA42jOC-Y"
      }
    },
    {
      "cell_type": "code",
      "source": [
        "word_index = imdb.get_word_index()\n",
        "reverse_word_index = dict(\n",
        "    [(value, key) for (key, value) in word_index.items()])\n",
        "decoded_review = ' '.join(\n",
        "    [reverse_word_index.get(i-3, '^') for i in train_data[0]]\n",
        ")\n"
      ],
      "metadata": {
        "id": "wbNrdU78OJWu"
      },
      "execution_count": 82,
      "outputs": []
    },
    {
      "cell_type": "code",
      "source": [
        "decoded_review"
      ],
      "metadata": {
        "colab": {
          "base_uri": "https://localhost:8080/",
          "height": 107
        },
        "id": "T9D6TXsTO9Fu",
        "outputId": "50278c7f-2d6d-4837-cda6-2ebdba2b7099"
      },
      "execution_count": 83,
      "outputs": [
        {
          "output_type": "execute_result",
          "data": {
            "text/plain": [
              "\"^ this film was just brilliant casting location scenery story direction everyone's really suited the part they played and you could just imagine being there robert ^ is an amazing actor and now the same being director ^ father came from the same scottish island as myself so i loved the fact there was a real connection with this film the witty remarks throughout the film were great it was just brilliant so much that i bought the film as soon as it was released for ^ and would recommend it to everyone to watch and the fly fishing was amazing really cried at the end it was so sad and you know what they say if you cry at a film it must have been good and this definitely was also ^ to the two little boy's that played the ^ of norman and paul they were just brilliant children are often left out of the ^ list i think because the stars that play them all grown up are such a big profile for the whole film but these children are amazing and should be praised for what they have done don't you think the whole story was so lovely because it was true and was someone's life after all that was shared with us all\""
            ],
            "application/vnd.google.colaboratory.intrinsic+json": {
              "type": "string"
            }
          },
          "metadata": {},
          "execution_count": 83
        }
      ]
    },
    {
      "cell_type": "markdown",
      "source": [
        "нельзя просто передать списки чисел непосредственно в нейронную сеть, все они имеют раную длину, а нейронная сеть ожидает получить согласованные пакеты данных\n",
        "\n",
        "существует два пути нормализации данных\n",
        "1. привести все списки к одинковой длине, преобразовав в тензоры с формой (количество отзывов, максимальная длина отзыва) после чего передав такие ЦЕЛОЧИСЛЕННЫЕ тензоры в слой `Embedding`\n",
        "\n",
        "2. выполнить `прямое кодирование` списков в векторы состоящие из 0 и 1 для слов в позициях их индексов из словаря. это может означать, что если мы используем только 10000 самых употребимых слов, то наш тензор будет иметь форму (количество отзывов, 10000). такой набор тензоров можно передать в слой `Dense`\n",
        "\n",
        "здесь на ум приходит идея преобразования массива слов каждого отзыва из одномерного в двумерный, где для каждого слова будет вычислено количество его повторений в отзыве, после чего каждому уникальному слову будет присвоено значение его \"влияния\", в зависимости от количества его повторений, сумма всех значения \"влияния\" должна быть равна 1."
      ],
      "metadata": {
        "id": "TSuB-CAiQFfr"
      }
    },
    {
      "cell_type": "code",
      "source": [
        "max([len(sequence) for sequence in train_data])"
      ],
      "metadata": {
        "colab": {
          "base_uri": "https://localhost:8080/"
        },
        "id": "dlYhYnkKQkBX",
        "outputId": "124a6236-866f-4b40-862c-244f48cc1306"
      },
      "execution_count": 84,
      "outputs": [
        {
          "output_type": "execute_result",
          "data": {
            "text/plain": [
              "2494"
            ]
          },
          "metadata": {},
          "execution_count": 84
        }
      ]
    },
    {
      "cell_type": "markdown",
      "source": [
        "мы будем использовать прямое кодирование\n",
        "\n",
        "\n",
        "для начала создадим тензор с формой  (количество отзывов, 10000)\n",
        "точка нужна, чтобы явно указать, что числа должны быть \"float32\"\n"
      ],
      "metadata": {
        "id": "T4i28UTpTij3"
      }
    },
    {
      "cell_type": "code",
      "source": [
        "def vectorize_sequences(sequences, dimension=10000):\n",
        "  results = np.zeros((len(sequences), dimension))\n",
        "  for i, sequence in enumerate(sequences):\n",
        "    for j in sequence:\n",
        "      results[i,j] = 1.\n",
        "  return results\n",
        "\n",
        "x_train = vectorize_sequences(train_data)\n",
        "x_test = vectorize_sequences(test_data)"
      ],
      "metadata": {
        "id": "dlnckdHKTm36"
      },
      "execution_count": 85,
      "outputs": []
    },
    {
      "cell_type": "code",
      "source": [
        "x_train[0]"
      ],
      "metadata": {
        "colab": {
          "base_uri": "https://localhost:8080/"
        },
        "id": "5X7G9ZvEU4q7",
        "outputId": "e3bbf0e1-f042-488b-dad0-e9cc9b191c17"
      },
      "execution_count": 86,
      "outputs": [
        {
          "output_type": "execute_result",
          "data": {
            "text/plain": [
              "array([0., 1., 1., ..., 0., 0., 0.])"
            ]
          },
          "metadata": {},
          "execution_count": 86
        }
      ]
    },
    {
      "cell_type": "markdown",
      "source": [
        "Наблюдение: не учитывается количество повторений одного слова в одном отзыв, т.к. индекс у этого слов один.\n",
        "например, в отзыве с индексом 0 всего 218 слов, включая замененные при загрузке, а после нормализации этого отзыва, количество единиц в нем составило 120, что на 98 меньше, чем было изначально.\n",
        "как мне кажеться это может влиять на качество предсказания."
      ],
      "metadata": {
        "id": "LYWR340gVy1Z"
      }
    },
    {
      "cell_type": "code",
      "source": [
        "len(train_data[0]) - sum(x_train[0])"
      ],
      "metadata": {
        "colab": {
          "base_uri": "https://localhost:8080/"
        },
        "id": "y241UcD6VZ8Z",
        "outputId": "51cd34d6-5db8-4421-d280-56112cf7666d"
      },
      "execution_count": 87,
      "outputs": [
        {
          "output_type": "execute_result",
          "data": {
            "text/plain": [
              "98.0"
            ]
          },
          "metadata": {},
          "execution_count": 87
        }
      ]
    },
    {
      "cell_type": "markdown",
      "source": [
        "нормализуем также значения таргетов"
      ],
      "metadata": {
        "id": "OUS-vxZRXHxc"
      }
    },
    {
      "cell_type": "code",
      "source": [
        "y_train = np.asarray(train_labels).astype(\"float32\")\n",
        "y_test  = np.asarray(test_labels).astype(\"float32\")"
      ],
      "metadata": {
        "id": "qYE6vgaNXL_P"
      },
      "execution_count": 88,
      "outputs": []
    },
    {
      "cell_type": "markdown",
      "source": [
        "определяем модель:\n",
        "\n",
        "3 слоя Dense, 2 из которых по 16 нейронов, а последний 1 -указывающий на 0 или 1"
      ],
      "metadata": {
        "id": "xeHShx8qaTth"
      }
    },
    {
      "cell_type": "code",
      "source": [
        "model = keras.Sequential([\n",
        "    layers.Dense(16, activation=\"relu\"),\n",
        "    layers.Dense(16, activation=\"relu\"),\n",
        "    layers.Dense(1,  activation=\"sigmoid\")\n",
        "])"
      ],
      "metadata": {
        "id": "jKo7eAmQangN"
      },
      "execution_count": 89,
      "outputs": []
    },
    {
      "cell_type": "markdown",
      "source": [
        "для задач классификации с одним выходным нейроном и функцией активации - сигмоида для функции потерь предпочтительнее использования `binary_crossentropy`, но можно и `mean_squared_error`.\n",
        "\n",
        "для оптимизатора в большинстве задач выбирается `rmsprop`\n",
        "\n",
        "а контролировать будем `accuracy`"
      ],
      "metadata": {
        "id": "neFBCiBZbccT"
      }
    },
    {
      "cell_type": "code",
      "source": [
        "model.compile(optimizer=\"rmsprop\",\n",
        "              loss=\"binary_crossentropy\",\n",
        "              metrics=[\"accuracy\"])"
      ],
      "metadata": {
        "id": "Ue_lAjQUcWPm"
      },
      "execution_count": 90,
      "outputs": []
    },
    {
      "cell_type": "markdown",
      "source": [
        "создание проверочного набора"
      ],
      "metadata": {
        "id": "inPIFYfbcrI3"
      }
    },
    {
      "cell_type": "code",
      "source": [
        "x_val = x_train[:10000]\n",
        "partial_x_train = x_train[10000:]\n",
        "y_val = y_train[:10000]\n",
        "partial_y_train = y_train[10000:]"
      ],
      "metadata": {
        "id": "S8jpksS4ctqE"
      },
      "execution_count": 91,
      "outputs": []
    },
    {
      "cell_type": "markdown",
      "source": [
        "обучение модели с сохранением истории"
      ],
      "metadata": {
        "id": "CAbTTURcdHYt"
      }
    },
    {
      "cell_type": "code",
      "source": [
        "history = model.fit(partial_x_train,\n",
        "                    partial_y_train,\n",
        "                    epochs=6,\n",
        "                    batch_size=512,\n",
        "                    validation_data=(x_val, y_val))"
      ],
      "metadata": {
        "colab": {
          "base_uri": "https://localhost:8080/"
        },
        "id": "oBZaLbCmdK3o",
        "outputId": "0aaf804f-acc4-417f-913b-e9f016f6d71c"
      },
      "execution_count": 92,
      "outputs": [
        {
          "output_type": "stream",
          "name": "stdout",
          "text": [
            "Epoch 1/6\n",
            "30/30 [==============================] - 3s 72ms/step - loss: 0.5338 - accuracy: 0.7767 - val_loss: 0.4060 - val_accuracy: 0.8629\n",
            "Epoch 2/6\n",
            "30/30 [==============================] - 1s 35ms/step - loss: 0.3336 - accuracy: 0.8890 - val_loss: 0.3514 - val_accuracy: 0.8596\n",
            "Epoch 3/6\n",
            "30/30 [==============================] - 1s 33ms/step - loss: 0.2516 - accuracy: 0.9161 - val_loss: 0.3049 - val_accuracy: 0.8769\n",
            "Epoch 4/6\n",
            "30/30 [==============================] - 1s 34ms/step - loss: 0.2014 - accuracy: 0.9316 - val_loss: 0.2837 - val_accuracy: 0.8860\n",
            "Epoch 5/6\n",
            "30/30 [==============================] - 1s 33ms/step - loss: 0.1687 - accuracy: 0.9455 - val_loss: 0.3147 - val_accuracy: 0.8749\n",
            "Epoch 6/6\n",
            "30/30 [==============================] - 1s 38ms/step - loss: 0.1426 - accuracy: 0.9549 - val_loss: 0.3182 - val_accuracy: 0.8753\n"
          ]
        }
      ]
    },
    {
      "cell_type": "markdown",
      "source": [
        "посмотрим что в объекте history"
      ],
      "metadata": {
        "id": "WmzNv300pRdi"
      }
    },
    {
      "cell_type": "code",
      "source": [
        "history_dict = history.history\n",
        "history_dict.keys()\n"
      ],
      "metadata": {
        "colab": {
          "base_uri": "https://localhost:8080/"
        },
        "id": "-TydwtiUhgiT",
        "outputId": "e79a786f-29ac-4645-b035-628a47712d3e"
      },
      "execution_count": 93,
      "outputs": [
        {
          "output_type": "execute_result",
          "data": {
            "text/plain": [
              "dict_keys(['loss', 'accuracy', 'val_loss', 'val_accuracy'])"
            ]
          },
          "metadata": {},
          "execution_count": 93
        }
      ]
    },
    {
      "cell_type": "markdown",
      "source": [
        "построим график отношения потерь к количеству выпаолняемых эпох"
      ],
      "metadata": {
        "id": "wmmHbr7Epda6"
      }
    },
    {
      "cell_type": "code",
      "source": [
        "loss_values = history_dict[\"loss\"]\n",
        "val_loss_values = history_dict[\"val_loss\"]\n",
        "epochs = range(1, len(loss_values)+1)\n",
        "plt.plot(epochs, loss_values, \"bo\", label=\"потери на этапе обучения\")\n",
        "plt.plot(epochs, val_loss_values, \"b\", label=\"потери на этапе проверки\")\n",
        "plt.title(\"потери на этапах обучения и проверки\")\n",
        "plt.xlabel(\"Эпохи\")\n",
        "plt.ylabel(\"Потери\")\n",
        "plt.legend()\n",
        "plt.show()"
      ],
      "metadata": {
        "colab": {
          "base_uri": "https://localhost:8080/",
          "height": 472
        },
        "id": "41DT3lyYpnMt",
        "outputId": "7f7dbb42-9ceb-4684-f0a2-dca355a8d6cc"
      },
      "execution_count": 94,
      "outputs": [
        {
          "output_type": "display_data",
          "data": {
            "text/plain": [
              "<Figure size 640x480 with 1 Axes>"
            ],
            "image/png": "[encoded data removed]"
          },
          "metadata": {}
        }
      ]
    },
    {
      "cell_type": "code",
      "source": [],
      "metadata": {
        "id": "DVO1tyTEr0g5"
      },
      "execution_count": null,
      "outputs": []
    }
  ]
}