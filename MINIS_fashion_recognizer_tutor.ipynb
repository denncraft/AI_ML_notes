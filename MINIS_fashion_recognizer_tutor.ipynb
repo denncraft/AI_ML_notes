{
  "nbformat": 4,
  "nbformat_minor": 0,
  "metadata": {
    "colab": {
      "provenance": [],
      "include_colab_link": true
    },
    "kernelspec": {
      "name": "python3",
      "display_name": "Python 3"
    }
  },
  "cells": [
    {
      "cell_type": "markdown",
      "metadata": {
        "id": "view-in-github",
        "colab_type": "text"
      },
      "source": [
        "<a href=\"https://colab.research.google.com/github/denncraft/AI_ML_notes/blob/main/MINIS_fashion_recognizer_tutor.ipynb\" target=\"_parent\"><img src=\"https://colab.research.google.com/assets/colab-badge.svg\" alt=\"Open In Colab\"/></a>"
      ]
    },
    {
      "cell_type": "markdown",
      "metadata": {
        "id": "qnyTxjK_GbOD"
      },
      "source": [
        "# Помимо Hello World, пример компьютерного зрения\n",
        "\n",
        "В предыдущем упражнении вы видели, как создать нейронную сеть, которая определит проблему, которую вы пытаетесь решить. Это дало явный пример усвоенного поведения. Конечно, в этом случае это было немного излишним, потому что было бы проще написать функцию Y=3x+1 напрямую, вместо того, чтобы использовать машинное обучение для изучения связи между X и Y для фиксированного набора значения и распространить это на все значения.\n",
        "\n",
        "Но как насчет сценария, в котором написать такие правила гораздо сложнее — например, проблема компьютерного зрения? Давайте рассмотрим сценарий, в котором мы можем распознавать разные предметы одежды, обученные на основе набора данных, содержащего 10 различных типов."
      ]
    },
    {
      "cell_type": "markdown",
      "metadata": {
        "id": "H41FYgtlHPjW"
      },
      "source": [
        "## Начать кодирование\n",
        "\n",
        "Давайте начнем с импорта TensorFlow."
      ]
    },
    {
      "cell_type": "code",
      "metadata": {
        "id": "q3KzJyjv3rnA",
        "colab": {
          "base_uri": "https://localhost:8080/"
        },
        "outputId": "4cf5e226-fd0f-4a08-9127-b0f108720647"
      },
      "source": [
        "import tensorflow as tf\n",
        "print(tf.__version__)"
      ],
      "execution_count": null,
      "outputs": [
        {
          "output_type": "stream",
          "name": "stdout",
          "text": [
            "2.15.0\n"
          ]
        }
      ]
    },
    {
      "cell_type": "markdown",
      "metadata": {
        "id": "2sKswgmaMenc"
      },
      "source": [
        "Мы научим нейронную сеть распознавать предметы одежды из общего набора данных под названием Fashion MNIST. Вы можете узнать больше об этом наборе данных [здесь](https://github.com/zalandoresearch/fashion-mnist).\n",
        "\n",
        "Он содержит 70 000 предметов одежды в 10 различных категориях. Каждый предмет одежды представлен в виде изображения в оттенках серого размером 28x28. Некоторые примеры вы можете увидеть здесь:\n",
        "\n",
        "![alt text](https://github.com/zalandoresearch/fashion-mnist/raw/master/doc/img/fashion-mnist-sprite.png)"
      ]
    },
    {
      "cell_type": "markdown",
      "metadata": {
        "id": "n_n1U5do3u_F"
      },
      "source": [
        "Данные Fashion MNIST доступны непосредственно в API наборов данных tf.keras. Вы загружаете его так:"
      ]
    },
    {
      "cell_type": "code",
      "metadata": {
        "id": "PmxkHFpt31bM"
      },
      "source": [
        "mnist = tf.keras.datasets.fashion_mnist"
      ],
      "execution_count": null,
      "outputs": []
    },
    {
      "cell_type": "markdown",
      "metadata": {
        "id": "GuoLQQBT4E-_"
      },
      "source": [
        "Вызов `load_data` для этого объекта даст вам два набора из двух списков, это будут значения обучения и тестирования для графики, содержащей предметы одежды и их этикетки."
      ]
    },
    {
      "cell_type": "code",
      "metadata": {
        "id": "BTdRgExe4TRB",
        "colab": {
          "base_uri": "https://localhost:8080/"
        },
        "outputId": "6ec73996-56a1-46b7-e82d-48b5ffe10651"
      },
      "source": [
        "(training_images, training_labels), (test_images, test_labels) = mnist.load_data()"
      ],
      "execution_count": null,
      "outputs": [
        {
          "output_type": "stream",
          "name": "stdout",
          "text": [
            "Downloading data from https://storage.googleapis.com/tensorflow/tf-keras-datasets/train-labels-idx1-ubyte.gz\n",
            "29515/29515 [==============================] - 0s 0us/step\n",
            "Downloading data from https://storage.googleapis.com/tensorflow/tf-keras-datasets/train-images-idx3-ubyte.gz\n",
            "26421880/26421880 [==============================] - 1s 0us/step\n",
            "Downloading data from https://storage.googleapis.com/tensorflow/tf-keras-datasets/t10k-labels-idx1-ubyte.gz\n",
            "5148/5148 [==============================] - 0s 0us/step\n",
            "Downloading data from https://storage.googleapis.com/tensorflow/tf-keras-datasets/t10k-images-idx3-ubyte.gz\n",
            "4422102/4422102 [==============================] - 1s 0us/step\n"
          ]
        }
      ]
    },
    {
      "cell_type": "markdown",
      "metadata": {
        "id": "rw395ROx4f5Q"
      },
      "source": [
        "Как выглядят эти данные? Давайте распечатаем обучающее изображение и обучающую метку, чтобы увидеть... Поэкспериментируйте с различными индексами в массиве. Например, взгляните также на индекс 42... это другая загрузка, чем та, что находится под индексом 0.\n"
      ]
    },
    {
      "cell_type": "code",
      "metadata": {
        "id": "FPc9d3gJ3jWF",
        "colab": {
          "base_uri": "https://localhost:8080/",
          "height": 448
        },
        "outputId": "2ba9211d-9289-49b9-a7a0-7a79c83fe96c"
      },
      "source": [
        "import matplotlib.pyplot as plt\n",
        "plt.imshow(training_images[42])\n",
        "# print(training_labels[0])\n",
        "# print(training_images[42])"
      ],
      "execution_count": null,
      "outputs": [
        {
          "output_type": "execute_result",
          "data": {
            "text/plain": [
              "<matplotlib.image.AxesImage at 0x7bc642f10df0>"
            ]
          },
          "metadata": {},
          "execution_count": 7
        },
        {
          "output_type": "display_data",
          "data": {
            "text/plain": [
              "<Figure size 640x480 with 1 Axes>"
            ],
            "image/png": "[encoded data removed]"
          },
          "metadata": {}
        }
      ]
    },
    {
      "cell_type": "markdown",
      "metadata": {
        "id": "3cbrdH225_nH"
      },
      "source": [
        "Вы заметите, что все значения числа находятся в диапазоне от 0 до 255. Если мы обучаем нейронную сеть, по разным причинам проще рассматривать все значения как от 0 до 1, этот процесс называется `**нормализацией**`. и, к счастью, в Python такой список легко нормализовать без зацикливания. это делается так:"
      ]
    },
    {
      "cell_type": "code",
      "metadata": {
        "id": "kRH19pWs6ZDn"
      },
      "source": [
        "training_images  = training_images / 255.0\n",
        "test_images = test_images / 255.0"
      ],
      "execution_count": null,
      "outputs": []
    },
    {
      "cell_type": "markdown",
      "metadata": {
        "id": "3DkO0As46lRn"
      },
      "source": [
        "Теперь вам может быть интересно, почему существует два подхода... обучение и тестирование — помните, мы говорили об этом во вступлении? Идея состоит в том, чтобы иметь один набор данных для обучения, а затем другой набор данных... который модель еще не видела... чтобы увидеть, насколько хорошо он будет классифицировать значения. В конце концов, когда вы закончите, вам захочется опробовать его с данными, которых он раньше не видел!"
      ]
    },
    {
      "cell_type": "markdown",
      "metadata": {
        "id": "dIn7S9gf62ie"
      },
      "source": [
        "Давайте теперь спроектируем модель. Здесь довольно много новых концепций, но не волнуйтесь, вы их освоите."
      ]
    },
    {
      "cell_type": "code",
      "metadata": {
        "id": "7mAyndG3kVlK"
      },
      "source": [
        "model = tf.keras.models.Sequential([tf.keras.layers.Flatten(),\n",
        "                                    tf.keras.layers.Dense(128, activation=tf.nn.relu),\n",
        "                                    tf.keras.layers.Dense(10, activation=tf.nn.softmax)])"
      ],
      "execution_count": null,
      "outputs": []
    },
    {
      "cell_type": "markdown",
      "metadata": {
        "id": "-lUcWaiX7MFj"
      },
      "source": [
        "`**Sequential**`: Это определяет ПОСЛЕДОВАТЕЛЬНОСТЬ слоев в нейронной сети.\n",
        "\n",
        "`**Flatten**`: Помните, раньше наши изображения были квадратными, когда вы их распечатывали? Flatten просто берет этот квадрат и превращает его в одномерный набор.\n",
        "\n",
        "`**Dense**`: Добавляет слой нейронов\n",
        "\n",
        "Каждому слою нейронов нужна `**функция активации**`, чтобы сообщать им, что делать. Вариантов много, но пока используйте только эти.\n",
        "\n",
        "`**Relu**` по сути функция: `If X>0 return X, else return 0` -- поэтому она передает только значения 0 или выше на следующий уровень в сети.\n",
        "\n",
        "`**Softmax**` принимает набор значений и фактически выбирает самое большое из них, например, если выходные данные последнего слоя выглядят так `[0.1, 0.1, 0.05, 0.1, 9.5, 0.1, 0.05, 0.05, 0.05]`, это избавляет вас от необходимости ловить рыбу в поисках наибольшей ценности и превращает ее в `[0,0,0,0,1,0,0,0,0]` -- Цель — сэкономить много кода!"
      ]
    },
    {
      "cell_type": "markdown",
      "metadata": {
        "id": "c8vbMCqb9Mh6"
      },
      "source": [
        "Следующее, что нужно сделать, когда модель определена, — это построить ее. Вы делаете это, компилируя его с помощью оптимизатора и функции потерь, как и раньше, а затем обучаете ее, вызывая `**model.fit**` и прося еe подогнать ваши обучающие данные под ваши обучающие метки, т. е. заставить ее выяснить взаимосвязь между данные обучения и их фактические метки, поэтому в будущем, если у вас будут данные, похожие на данные обучения, вы сможете спрогнозировать, как будут выглядеть эти данные."
      ]
    },
    {
      "cell_type": "code",
      "metadata": {
        "id": "BLMdl9aP8nQ0",
        "colab": {
          "base_uri": "https://localhost:8080/"
        },
        "outputId": "32e0bd50-3f0a-4f6d-a442-9dc56660e545"
      },
      "source": [
        "model.compile(optimizer = tf.keras.optimizers.Adam(),\n",
        "              loss = 'sparse_categorical_crossentropy',\n",
        "              metrics=['accuracy'])\n",
        "\n",
        "model.fit(training_images, training_labels, epochs=5)"
      ],
      "execution_count": null,
      "outputs": [
        {
          "output_type": "stream",
          "name": "stdout",
          "text": [
            "Epoch 1/5\n",
            "1875/1875 [==============================] - 8s 4ms/step - loss: 0.4946 - accuracy: 0.8258\n",
            "Epoch 2/5\n",
            "1875/1875 [==============================] - 7s 4ms/step - loss: 0.3737 - accuracy: 0.8645\n",
            "Epoch 3/5\n",
            "1875/1875 [==============================] - 7s 4ms/step - loss: 0.3374 - accuracy: 0.8773\n",
            "Epoch 4/5\n",
            "1875/1875 [==============================] - 8s 4ms/step - loss: 0.3134 - accuracy: 0.8850\n",
            "Epoch 5/5\n",
            "1875/1875 [==============================] - 7s 4ms/step - loss: 0.2932 - accuracy: 0.8927\n"
          ]
        },
        {
          "output_type": "execute_result",
          "data": {
            "text/plain": [
              "<keras.src.callbacks.History at 0x7bc645161de0>"
            ]
          },
          "metadata": {},
          "execution_count": 11
        }
      ]
    },
    {
      "cell_type": "markdown",
      "metadata": {
        "id": "-JJMsvSB-1UY"
      },
      "source": [
        "После завершения обучения вы должны увидеть значение точности в конце последней эпохи. Это может выглядеть примерно так: 0,9098. Это говорит о том, что ваша нейронная сеть классифицирует обучающие данные с точностью около 91%. То есть она обнаружила совпадение шаблона между изображениями и метками, в 91% случаев. Неплохо, но не отлично, учитывая, что его обучали всего 5 эпох и делали довольно быстро.\n",
        "\n",
        "Но как это будет работать с невидимыми данными? Вот почему у нас есть тестовые изображения. Мы можем вызвать model.evaluate и передать два набора, и он сообщит о потерях для каждого. Давайте попробуем:"
      ]
    },
    {
      "cell_type": "code",
      "metadata": {
        "id": "WzlqsEzX9s5P",
        "colab": {
          "base_uri": "https://localhost:8080/"
        },
        "outputId": "5e0fffe6-a846-48d7-d967-c0499abb3b0b"
      },
      "source": [
        "model.evaluate(test_images, test_labels)"
      ],
      "execution_count": null,
      "outputs": [
        {
          "output_type": "stream",
          "name": "stdout",
          "text": [
            "313/313 [==============================] - 1s 3ms/step - loss: 0.3485 - accuracy: 0.8767\n"
          ]
        },
        {
          "output_type": "execute_result",
          "data": {
            "text/plain": [
              "[0.34848135709762573, 0.8766999840736389]"
            ]
          },
          "metadata": {},
          "execution_count": 12
        }
      ]
    },
    {
      "cell_type": "markdown",
      "metadata": {
        "id": "6tki-Aro_Uax"
      },
      "source": [
        "Для меня это дало точность около `0,8838`, что означает точность около `88%`. Как и ожидалось, он, вероятно, не будет так хорошо работать с невидимыми данными, как с данными, на которых он обучался! Проходя этот курс, вы найдете способы улучшить это.\n",
        "\n",
        "Для дальнейшего изучения попробуйте выполнить следующие упражнения:"
      ]
    },
    {
      "cell_type": "markdown",
      "metadata": {
        "id": "htldZNWcIPSN"
      },
      "source": [
        "# Exploration Exercises"
      ]
    },
    {
      "cell_type": "markdown",
      "metadata": {
        "id": "rquQqIx4AaGR"
      },
      "source": [
        "###Exercise 1:\n",
        "Для этого первого упражнения запустите приведенный ниже код: он создает набор классификаций для каждого из тестовых изображений, а затем печатает первую запись в классификациях. Результатом после запуска является список чисел. Как вы думаете, почему это такой и что означают эти цифры?"
      ]
    },
    {
      "cell_type": "code",
      "metadata": {
        "id": "RyEIki0z_hAD",
        "colab": {
          "base_uri": "https://localhost:8080/"
        },
        "outputId": "635ef550-b190-4b13-b739-f821819dbb14"
      },
      "source": [
        "classifications = model.predict(test_images)\n",
        "\n",
        "print(classifications[0])"
      ],
      "execution_count": null,
      "outputs": [
        {
          "output_type": "stream",
          "name": "stdout",
          "text": [
            "313/313 [==============================] - 1s 2ms/step\n",
            "[6.5027948e-06 2.6407907e-08 8.6169268e-07 1.8363668e-09 8.6516714e-08\n",
            " 4.5689261e-03 9.0056068e-07 1.8390188e-02 2.1909351e-07 9.7703230e-01]\n"
          ]
        }
      ]
    },
    {
      "cell_type": "markdown",
      "metadata": {
        "id": "MdzqbQhRArzm"
      },
      "source": [
        "Подсказка: попробуйте запустить print(test_labels[0]) — и вы получите 9. Поможет ли это вам понять, почему этот список выглядит именно так?"
      ]
    },
    {
      "cell_type": "code",
      "metadata": {
        "id": "WnBGOrMiA1n5",
        "colab": {
          "base_uri": "https://localhost:8080/"
        },
        "outputId": "2e7184f1-aebd-4e05-e5a5-6207dc3903fc"
      },
      "source": [
        "print(test_labels[0])"
      ],
      "execution_count": null,
      "outputs": [
        {
          "output_type": "stream",
          "name": "stdout",
          "text": [
            "9\n"
          ]
        }
      ]
    },
    {
      "cell_type": "markdown",
      "metadata": {
        "id": "uUs7eqr7uSvs"
      },
      "source": [
        "### Что представляет собой этот список?\n",
        "\n",
        "1. Это 10 случайных бессмысленных значений\n",
        "2. Это первые 10 классификаций, созданных компьютером.\n",
        "3. Это вероятность того, что этот предмет принадлежит к каждому из 10 классов.\n",
        "\n"
      ]
    },
    {
      "cell_type": "markdown",
      "metadata": {
        "id": "wAbr92RTA67u"
      },
      "source": [
        "####Ответ:\n",
        "\n",
        "Правильный ответ: (3)\n",
        "\n",
        "Результатом работы модели является список из 10 чисел. Эти числа представляют собой вероятность того, что классифицируемое значение является соответствующим значением, т.е. первое значение в списке — это вероятность того, что на кртинке избражен предмет класса «0», следующее — «1» и т. д. Обратите внимание, что у них всех ОЧЕНЬ НИЗКАЯ вероятность.\n",
        "\n",
        "Для числа 9 вероятность составила 0,977+, т. е. нейронная сеть говорит нам, что это почти наверняка 9."
      ]
    },
    {
      "cell_type": "markdown",
      "metadata": {
        "id": "CD4kC6TBu-69"
      },
      "source": [
        "### Откуда вы знаете, что в этом списке указано, что это полуботинки?\n",
        "\n",
        "1. Недостаточно информации, чтобы ответить на этот вопрос\n",
        "2. 10-й элемент в списке — самый большой, а полуботинки как раз имеют маркировку 9.\n",
        "3. Полуботинки имеют метку 9, а в списке 0->9 элементов.\n",
        "\n",
        "\n"
      ]
    },
    {
      "cell_type": "markdown",
      "metadata": {
        "id": "I-haLncrva5L"
      },
      "source": [
        "####Ответ\n",
        "\n",
        "Правильный ответ: (2). И список, и метки основаны на 0, поэтому полуботинки с меткой 9 означают, что это 10-й из 10 классов. Список, в котором 10-й элемент является самым высоким значением, означает, что нейронная сеть предсказала, что классифицируемый предмет, скорее всего, представляет собой полуботинки."
      ]
    },
    {
      "cell_type": "markdown",
      "metadata": {
        "id": "OgQSIfDSOWv6"
      },
      "source": [
        "##Exercise 2:\n",
        "Давайте теперь посмотрим на слои вашей модели. Поэкспериментируйте с разными значениями для плотного слоя с 512 нейронами. Какие разные результаты вы получаете по потерям, времени тренировок и т. д.? Как вы думаете, почему это так?\n",
        "\n"
      ]
    },
    {
      "cell_type": "code",
      "metadata": {
        "id": "GSZSwV5UObQP",
        "colab": {
          "base_uri": "https://localhost:8080/"
        },
        "outputId": "ea248b1b-a4a2-41c4-f98d-1cc48bcd203c"
      },
      "source": [
        "import tensorflow as tf\n",
        "print(tf.__version__)\n",
        "\n",
        "mnist = tf.keras.datasets.fashion_mnist\n",
        "\n",
        "(training_images, training_labels) ,  (test_images, test_labels) = mnist.load_data()\n",
        "\n",
        "training_images = training_images/255.0\n",
        "test_images = test_images/255.0\n",
        "\n",
        "model = tf.keras.models.Sequential([tf.keras.layers.Flatten(),\n",
        "                                    tf.keras.layers.Dense(1024, activation=tf.nn.relu),\n",
        "                                    tf.keras.layers.Dense(10, activation=tf.nn.softmax)])\n",
        "\n",
        "model.compile(optimizer = 'adam',\n",
        "              loss = 'sparse_categorical_crossentropy')\n",
        "\n",
        "model.fit(training_images, training_labels, epochs=5)\n",
        "\n",
        "model.evaluate(test_images, test_labels)\n",
        "\n",
        "classifications = model.predict(test_images)\n",
        "\n",
        "print(classifications[0])\n",
        "print(test_labels[0])"
      ],
      "execution_count": null,
      "outputs": [
        {
          "output_type": "stream",
          "name": "stdout",
          "text": [
            "2.15.0\n",
            "Epoch 1/5\n",
            "1875/1875 [==============================] - 24s 12ms/step - loss: 0.4740\n",
            "Epoch 2/5\n",
            "1875/1875 [==============================] - 23s 12ms/step - loss: 0.3575\n",
            "Epoch 3/5\n",
            "1875/1875 [==============================] - 22s 12ms/step - loss: 0.3223\n",
            "Epoch 4/5\n",
            "1875/1875 [==============================] - 23s 12ms/step - loss: 0.2976\n",
            "Epoch 5/5\n",
            "1875/1875 [==============================] - 23s 12ms/step - loss: 0.2786\n",
            "313/313 [==============================] - 2s 6ms/step - loss: 0.3699\n",
            "313/313 [==============================] - 1s 4ms/step\n",
            "[5.1901190e-09 2.6591700e-08 9.0806623e-10 5.0891291e-10 2.6957652e-08\n",
            " 6.8848964e-04 4.6094591e-08 2.0986207e-02 3.2233334e-08 9.7832513e-01]\n",
            "9\n"
          ]
        }
      ]
    },
    {
      "cell_type": "markdown",
      "metadata": {
        "id": "bOOEnHZFv5cS"
      },
      "source": [
        "###Question 1. Увеличив слой до 1024 нейронов. Какой получили эффект?\n",
        "\n",
        "1. Обучение занимает больше времени, но является более точным\n",
        "2. Обучение занимает больше времени, но не влияет на точность\n",
        "3. Обучение занимает то же время, но более точное\n"
      ]
    },
    {
      "cell_type": "markdown",
      "metadata": {
        "id": "U73MUP2lwrI2"
      },
      "source": [
        "####Ответ\n",
        "\n",
        "Правильный ответ: (1) добавляя больше нейронов, нам придется выполнять больше вычислений, замедляя процесс, но в данном случае они оказывают хорошее влияние — мы становимся более точными. Это не означает, что всегда действует принцип «чем больше, тем лучше», вы можете очень быстро столкнуться с законом убывающей отдачи!"
      ]
    },
    {
      "cell_type": "markdown",
      "metadata": {
        "id": "WtWxK16hQxLN"
      },
      "source": [
        "##Exercise 3:\n",
        "\n",
        "Что произойдет, если вы удалите слой `Flatten()`. Как вы думаете, почему это так?\n",
        "\n",
        "Вы получите ошибку о форме данных. Сейчас это может показаться расплывчатым, но оно подтверждает практическое правило, согласно которому первый уровень вашей сети должен иметь ту же форму, что и ваши данные. Сейчас наши данные представляют собой изображения размером `28x28`, а `28` слоев по `28` нейронов были бы невозможны, поэтому имеет смысл `сгладить` эти `28,28` до `784,1`. Вместо того, чтобы писать весь код для решения этой проблемы самостоятельно, мы добавляем слой `Flatten()` в начале, и когда массивы будут позже загружены в модель, они автоматически будут сведены для нас."
      ]
    },
    {
      "cell_type": "code",
      "metadata": {
        "id": "ExNxCwhcQ18S",
        "colab": {
          "base_uri": "https://localhost:8080/"
        },
        "outputId": "c0660296-6c68-4469-dcdf-2c91ffc6924b"
      },
      "source": [
        "import tensorflow as tf\n",
        "print(tf.__version__)\n",
        "\n",
        "mnist = tf.keras.datasets.fashion_mnist\n",
        "\n",
        "(training_images, training_labels) ,  (test_images, test_labels) = mnist.load_data()\n",
        "\n",
        "training_images = training_images/255.0\n",
        "test_images = test_images/255.0\n",
        "\n",
        "\n",
        "model = tf.keras.models.Sequential([tf.keras.layers.Flatten(),\n",
        "                                    tf.keras.layers.Dense(64, activation=tf.nn.relu),\n",
        "                                    tf.keras.layers.Dense(10, activation=tf.nn.softmax)])\n",
        "\n",
        "# This version has the 'flatten' removed. Replace the above with this one to see the error.\n",
        "# model = tf.keras.models.Sequential([tf.keras.layers.Dense(64, activation=tf.nn.relu),\n",
        "#                                    tf.keras.layers.Dense(10, activation=tf.nn.softmax)])\n",
        "\n",
        "\n",
        "model.compile(optimizer = 'adam',\n",
        "              loss = 'sparse_categorical_crossentropy')\n",
        "\n",
        "model.fit(training_images, training_labels, epochs=5)\n",
        "\n",
        "model.evaluate(test_images, test_labels)\n",
        "\n",
        "classifications = model.predict(test_images)\n",
        "\n",
        "print(classifications[0])\n",
        "print(test_labels[0])"
      ],
      "execution_count": null,
      "outputs": [
        {
          "output_type": "stream",
          "name": "stdout",
          "text": [
            "2.15.0\n",
            "Epoch 1/5\n",
            "1875/1875 [==============================] - 5s 2ms/step - loss: 0.5270\n",
            "Epoch 2/5\n",
            "1875/1875 [==============================] - 7s 4ms/step - loss: 0.3960\n",
            "Epoch 3/5\n",
            "1875/1875 [==============================] - 5s 3ms/step - loss: 0.3592\n",
            "Epoch 4/5\n",
            "1875/1875 [==============================] - 5s 2ms/step - loss: 0.3323\n",
            "Epoch 5/5\n",
            "1875/1875 [==============================] - 5s 3ms/step - loss: 0.3147\n",
            "313/313 [==============================] - 1s 2ms/step - loss: 0.3685\n",
            "313/313 [==============================] - 1s 2ms/step\n",
            "[8.9587038e-06 1.2841747e-09 7.3005191e-07 3.0512155e-08 4.6109977e-07\n",
            " 1.6462712e-02 1.6761613e-05 2.9887065e-02 1.7817080e-04 9.5344502e-01]\n",
            "9\n"
          ]
        }
      ]
    },
    {
      "cell_type": "markdown",
      "metadata": {
        "id": "VqoCR-ieSGDg"
      },
      "source": [
        "##Exercise 4:\n",
        "\n",
        "Рассмотрим конечные (выходные) слои. Почему их 10? Что бы произошло, если бы их было другоее количество, отличное от 10? Например, попробуйте обучить сеть с помощью 5\n",
        "\n",
        "Вы получаете ошибку, как только обнаруживается неожиданное значение. Еще одно практическое правило: количество нейронов в последнем слое должно соответствовать количеству классов, которые вы классифицируете. В данном случае это цифры 0–9, значит, их 10, следовательно, в последнем слое у вас должно быть 10 нейронов."
      ]
    },
    {
      "cell_type": "code",
      "metadata": {
        "id": "MMckVntcSPvo",
        "colab": {
          "base_uri": "https://localhost:8080/"
        },
        "outputId": "341723d5-9b68-400f-92d4-fa9f983c3c00"
      },
      "source": [
        "import tensorflow as tf\n",
        "print(tf.__version__)\n",
        "\n",
        "mnist = tf.keras.datasets.fashion_mnist\n",
        "\n",
        "(training_images, training_labels) ,  (test_images, test_labels) = mnist.load_data()\n",
        "\n",
        "training_images = training_images/255.0\n",
        "test_images = test_images/255.0\n",
        "\n",
        "model = tf.keras.models.Sequential([tf.keras.layers.Flatten(),\n",
        "                                    tf.keras.layers.Dense(64, activation=tf.nn.relu),\n",
        "                                    tf.keras.layers.Dense(10, activation=tf.nn.softmax)])\n",
        "\n",
        "# Replace the above model definiton with this one to see the network with 5 output layers\n",
        "# And you'll see errors as a result!\n",
        "# model = tf.keras.models.Sequential([tf.keras.layers.Flatten(),\n",
        "#                                    tf.keras.layers.Dense(64, activation=tf.nn.relu),\n",
        "#                                    tf.keras.layers.Dense(5, activation=tf.nn.softmax)])\n",
        "\n",
        "model.compile(optimizer = 'adam',\n",
        "              loss = 'sparse_categorical_crossentropy')\n",
        "\n",
        "model.fit(training_images, training_labels, epochs=5)\n",
        "\n",
        "model.evaluate(test_images, test_labels)\n",
        "\n",
        "classifications = model.predict(test_images)\n",
        "\n",
        "print(classifications[0])\n",
        "print(test_labels[0])"
      ],
      "execution_count": null,
      "outputs": [
        {
          "output_type": "stream",
          "name": "stdout",
          "text": [
            "2.15.0\n",
            "Epoch 1/5\n",
            "1875/1875 [==============================] - 7s 3ms/step - loss: 0.5152\n",
            "Epoch 2/5\n",
            "1875/1875 [==============================] - 5s 3ms/step - loss: 0.3902\n",
            "Epoch 3/5\n",
            "1875/1875 [==============================] - 5s 2ms/step - loss: 0.3550\n",
            "Epoch 4/5\n",
            "1875/1875 [==============================] - 7s 4ms/step - loss: 0.3301\n",
            "Epoch 5/5\n",
            "1875/1875 [==============================] - 5s 2ms/step - loss: 0.3147\n",
            "313/313 [==============================] - 1s 2ms/step - loss: 0.3680\n",
            "313/313 [==============================] - 1s 2ms/step\n",
            "[1.30494045e-05 7.95954975e-07 2.26712746e-06 3.37382153e-06\n",
            " 9.15369674e-06 4.45543528e-02 2.56666699e-05 1.86583042e-01\n",
            " 1.61150016e-03 7.67196834e-01]\n",
            "9\n"
          ]
        }
      ]
    },
    {
      "cell_type": "markdown",
      "metadata": {
        "id": "-0lF5MuvSuZF"
      },
      "source": [
        "##Exercise 5:\n",
        "\n",
        "Рассмотрим влияние дополнительных слоев в сети. Что произойдет, если вы добавите еще один слой между слоем с 512 и последним слоем с 10.\n",
        "\n",
        "Ответ: Значительного влияния не будет, потому что это относительно простые данные. Для гораздо более сложных данных (включая цветные изображения, которые можно классифицировать как цветы, которые вы увидите в следующем уроке) часто необходимы дополнительные слои."
      ]
    },
    {
      "cell_type": "code",
      "metadata": {
        "id": "b1YPa6UhS8Es",
        "colab": {
          "base_uri": "https://localhost:8080/"
        },
        "outputId": "c74b5a24-fa85-4ea7-825d-87a0883588b5"
      },
      "source": [
        "import tensorflow as tf\n",
        "print(tf.__version__)\n",
        "\n",
        "mnist = tf.keras.datasets.fashion_mnist\n",
        "\n",
        "(training_images, training_labels) ,  (test_images, test_labels) = mnist.load_data()\n",
        "\n",
        "training_images = training_images/255.0\n",
        "test_images = test_images/255.0\n",
        "\n",
        "model = tf.keras.models.Sequential([tf.keras.layers.Flatten(),\n",
        "                                    tf.keras.layers.Dense(512, activation=tf.nn.relu),\n",
        "                                    tf.keras.layers.Dense(512, activation=tf.nn.relu),\n",
        "                                    tf.keras.layers.Dense(10, activation=tf.nn.softmax)])\n",
        "\n",
        "model.compile(optimizer = 'adam',\n",
        "              loss = 'sparse_categorical_crossentropy')\n",
        "\n",
        "model.fit(training_images, training_labels, epochs=5)\n",
        "\n",
        "model.evaluate(test_images, test_labels)\n",
        "\n",
        "classifications = model.predict(test_images)\n",
        "\n",
        "print(classifications[0])\n",
        "print(test_labels[0])"
      ],
      "execution_count": null,
      "outputs": [
        {
          "output_type": "stream",
          "name": "stdout",
          "text": [
            "2.15.0\n",
            "Epoch 1/5\n",
            "1875/1875 [==============================] - 22s 11ms/step - loss: 0.4695\n",
            "Epoch 2/5\n",
            "1875/1875 [==============================] - 20s 11ms/step - loss: 0.3555\n",
            "Epoch 3/5\n",
            "1875/1875 [==============================] - 21s 11ms/step - loss: 0.3228\n",
            "Epoch 4/5\n",
            "1875/1875 [==============================] - 21s 11ms/step - loss: 0.2972\n",
            "Epoch 5/5\n",
            "1875/1875 [==============================] - 21s 11ms/step - loss: 0.2778\n",
            "313/313 [==============================] - 1s 3ms/step - loss: 0.3398\n",
            "313/313 [==============================] - 1s 3ms/step\n",
            "[8.8529202e-09 3.7512118e-07 1.2789728e-08 6.5310992e-08 3.5162531e-09\n",
            " 8.7590236e-04 2.0936172e-08 4.2343322e-02 2.3876331e-07 9.5678002e-01]\n",
            "9\n"
          ]
        }
      ]
    },
    {
      "cell_type": "code",
      "metadata": {
        "id": "sE7PDe6LWAHb"
      },
      "source": [],
      "execution_count": null,
      "outputs": []
    },
    {
      "cell_type": "markdown",
      "metadata": {
        "id": "Bql9fyaNUSFy"
      },
      "source": [
        "#Exercise 6:\n",
        "\n",
        "Рассмотрим влияние обучения на протяжении более или менее эпох. Почему вы думаете, что это будет так?\n",
        "\n",
        "Попробуйте 15 эпох — вы, вероятно, получите модель с гораздо лучшими потерями, чем модель с 5. Попробуйте 30 эпох — вы можете увидеть, что значение потерь перестает уменьшаться, а иногда и увеличивается. Это побочный эффект так называемого `«переобучения»`, о котором вы могли слышать[где-то], и на него нужно обратить внимание при обучении нейронных сетей. Нет смысла тратить время на тренировки, если вы не улучшаете свои потери, верно! :)"
      ]
    },
    {
      "cell_type": "code",
      "metadata": {
        "id": "uE3esj9BURQe",
        "colab": {
          "base_uri": "https://localhost:8080/"
        },
        "outputId": "dfd1b5d6-bc30-4b6c-c66e-5b2e4305f39a"
      },
      "source": [
        "import tensorflow as tf\n",
        "print(tf.__version__)\n",
        "\n",
        "mnist = tf.keras.datasets.fashion_mnist\n",
        "\n",
        "(training_images, training_labels) ,  (test_images, test_labels) = mnist.load_data()\n",
        "\n",
        "training_images = training_images/255.0\n",
        "test_images = test_images/255.0\n",
        "\n",
        "model = tf.keras.models.Sequential([tf.keras.layers.Flatten(),\n",
        "                                    tf.keras.layers.Dense(64, activation=tf.nn.relu),\n",
        "                                    tf.keras.layers.Dense(10, activation=tf.nn.softmax)])\n",
        "\n",
        "model.compile(optimizer = 'adam',\n",
        "              loss = 'sparse_categorical_crossentropy')\n",
        "\n",
        "model.fit(training_images, training_labels, epochs=30)\n",
        "\n",
        "model.evaluate(test_images, test_labels)\n",
        "\n",
        "classifications = model.predict(test_images)\n",
        "\n",
        "print(classifications[34])\n",
        "print(test_labels[34])"
      ],
      "execution_count": null,
      "outputs": [
        {
          "output_type": "stream",
          "name": "stdout",
          "text": [
            "2.15.0\n",
            "Epoch 1/30\n",
            "1875/1875 [==============================] - 7s 3ms/step - loss: 0.5249\n",
            "Epoch 2/30\n",
            "1875/1875 [==============================] - 5s 3ms/step - loss: 0.3979\n",
            "Epoch 3/30\n",
            "1875/1875 [==============================] - 6s 3ms/step - loss: 0.3572\n",
            "Epoch 4/30\n",
            "1875/1875 [==============================] - 5s 3ms/step - loss: 0.3328\n",
            "Epoch 5/30\n",
            "1875/1875 [==============================] - 5s 3ms/step - loss: 0.3146\n",
            "Epoch 6/30\n",
            "1875/1875 [==============================] - 5s 3ms/step - loss: 0.2997\n",
            "Epoch 7/30\n",
            "1875/1875 [==============================] - 5s 2ms/step - loss: 0.2879\n",
            "Epoch 8/30\n",
            "1875/1875 [==============================] - 5s 3ms/step - loss: 0.2780\n",
            "Epoch 9/30\n",
            "1875/1875 [==============================] - 5s 3ms/step - loss: 0.2686\n",
            "Epoch 10/30\n",
            "1875/1875 [==============================] - 5s 3ms/step - loss: 0.2611\n",
            "Epoch 11/30\n",
            "1875/1875 [==============================] - 5s 3ms/step - loss: 0.2531\n",
            "Epoch 12/30\n",
            "1875/1875 [==============================] - 5s 2ms/step - loss: 0.2468\n",
            "Epoch 13/30\n",
            "1875/1875 [==============================] - 5s 3ms/step - loss: 0.2407\n",
            "Epoch 14/30\n",
            "1875/1875 [==============================] - 5s 2ms/step - loss: 0.2332\n",
            "Epoch 15/30\n",
            "1875/1875 [==============================] - 5s 2ms/step - loss: 0.2281\n",
            "Epoch 16/30\n",
            "1875/1875 [==============================] - 6s 3ms/step - loss: 0.2239\n",
            "Epoch 17/30\n",
            "1875/1875 [==============================] - 4s 2ms/step - loss: 0.2208\n",
            "Epoch 18/30\n",
            "1875/1875 [==============================] - 6s 3ms/step - loss: 0.2157\n",
            "Epoch 19/30\n",
            "1875/1875 [==============================] - 5s 3ms/step - loss: 0.2099\n",
            "Epoch 20/30\n",
            "1875/1875 [==============================] - 5s 3ms/step - loss: 0.2057\n",
            "Epoch 21/30\n",
            "1875/1875 [==============================] - 5s 3ms/step - loss: 0.2028\n",
            "Epoch 22/30\n",
            "1875/1875 [==============================] - 4s 2ms/step - loss: 0.1991\n",
            "Epoch 23/30\n",
            "1875/1875 [==============================] - 5s 3ms/step - loss: 0.1969\n",
            "Epoch 24/30\n",
            "1875/1875 [==============================] - 5s 3ms/step - loss: 0.1905\n",
            "Epoch 25/30\n",
            "1875/1875 [==============================] - 4s 2ms/step - loss: 0.1910\n",
            "Epoch 26/30\n",
            "1875/1875 [==============================] - 6s 3ms/step - loss: 0.1866\n",
            "Epoch 27/30\n",
            "1875/1875 [==============================] - 4s 2ms/step - loss: 0.1819\n",
            "Epoch 28/30\n",
            "1875/1875 [==============================] - 6s 3ms/step - loss: 0.1799\n",
            "Epoch 29/30\n",
            "1875/1875 [==============================] - 5s 2ms/step - loss: 0.1770\n",
            "Epoch 30/30\n",
            "1875/1875 [==============================] - 6s 3ms/step - loss: 0.1728\n",
            "313/313 [==============================] - 2s 5ms/step - loss: 0.3832\n",
            "313/313 [==============================] - 1s 3ms/step\n",
            "[4.0651071e-13 8.2672591e-18 2.9460778e-15 5.7324964e-22 2.0371526e-12\n",
            " 3.0258757e-15 4.1234855e-14 7.4837510e-21 9.9999994e-01 1.9915094e-29]\n",
            "8\n"
          ]
        }
      ]
    },
    {
      "cell_type": "markdown",
      "metadata": {
        "id": "HS3vVkOgCDGZ"
      },
      "source": [
        "#Exercise 7:\n",
        "\n",
        "Перед обучением мы нормализовали данные, переходя от значений `0–255` к значениям `0–1`. Каковы будут последствия удаления этого? Вот полный код, чтобы попробовать. Как вы думаете, почему вы получаете разные результаты?"
      ]
    },
    {
      "cell_type": "code",
      "metadata": {
        "id": "JDqNAqrpCNg0",
        "colab": {
          "base_uri": "https://localhost:8080/"
        },
        "outputId": "e2530763-9b5e-4cd9-e2e7-323da35a959e"
      },
      "source": [
        "import tensorflow as tf\n",
        "print(tf.__version__)\n",
        "mnist = tf.keras.datasets.fashion_mnist\n",
        "(training_images, training_labels), (test_images, test_labels) = mnist.load_data()\n",
        "# To experiment with removing normalization, comment out the following 2 lines\n",
        "# training_images=training_images/255.0\n",
        "# test_images=test_images/255.0\n",
        "model = tf.keras.models.Sequential([\n",
        "  tf.keras.layers.Flatten(),\n",
        "  tf.keras.layers.Dense(512, activation=tf.nn.relu),\n",
        "  tf.keras.layers.Dense(10, activation=tf.nn.softmax)\n",
        "])\n",
        "model.compile(optimizer='adam', loss='sparse_categorical_crossentropy')\n",
        "model.fit(training_images, training_labels, epochs=5)\n",
        "model.evaluate(test_images, test_labels)\n",
        "classifications = model.predict(test_images)\n",
        "print(classifications[0])\n",
        "print(test_labels[0])"
      ],
      "execution_count": null,
      "outputs": [
        {
          "output_type": "stream",
          "name": "stdout",
          "text": [
            "2.15.0\n",
            "Epoch 1/5\n",
            "1875/1875 [==============================] - 16s 8ms/step - loss: 4.2391\n",
            "Epoch 2/5\n",
            "1875/1875 [==============================] - 15s 8ms/step - loss: 0.5416\n",
            "Epoch 3/5\n",
            "1875/1875 [==============================] - 15s 8ms/step - loss: 0.5092\n",
            "Epoch 4/5\n",
            "1875/1875 [==============================] - 15s 8ms/step - loss: 0.5075\n",
            "Epoch 5/5\n",
            "1875/1875 [==============================] - 16s 8ms/step - loss: 0.4960\n",
            "313/313 [==============================] - 1s 3ms/step - loss: 0.5322\n",
            "313/313 [==============================] - 1s 3ms/step\n",
            "[8.3766068e-19 9.7198291e-16 2.4888497e-25 1.0654437e-15 4.0169880e-22\n",
            " 5.9557132e-02 2.7447398e-26 6.0931470e-02 6.3304388e-12 8.7951136e-01]\n",
            "9\n"
          ]
        }
      ]
    },
    {
      "cell_type": "markdown",
      "metadata": {
        "id": "E7W2PT66ZBHQ"
      },
      "source": [
        "#Exercise 8:\n",
        "\n",
        "Ранее, когда мы готовились к дополнительным эпохам, у вас возникла проблема, из-за которой ваш 'loss' мог расти. Возможно, вам потребовалось некоторое время, чтобы дождаться завершения обучения, и вы могли подумать: «Было бы неплохо, если бы я мог остановить обучение, когда достигну желаемого значения?» - т.е. 95% точности может быть для вас достаточно, и если вы достигнете этого значения после 3 эпох, зачем сидеть и ждать, пока оно завершит гораздо больше эпох... Так как бы вы это исправили? Как и в любой другой программе... у вас есть обратные вызовы! Давайте посмотрим на них в действии..."
      ]
    },
    {
      "cell_type": "code",
      "metadata": {
        "id": "pkaEHHgqZbYv",
        "colab": {
          "base_uri": "https://localhost:8080/"
        },
        "outputId": "973ba765-3d05-4775-fe7e-729ea6177e82"
      },
      "source": [
        "import tensorflow as tf\n",
        "print(tf.__version__)\n",
        "\n",
        "class myCallback(tf.keras.callbacks.Callback):\n",
        "  def on_epoch_end(self, epoch, logs={}):\n",
        "    if(logs.get('accuracy')>0.9):\n",
        "      print(\"\\nДостигнута 90% точность, поэтому обучение остановлено!\")\n",
        "      self.model.stop_training = True\n",
        "\n",
        "callbacks = myCallback()\n",
        "mnist = tf.keras.datasets.fashion_mnist\n",
        "(training_images, training_labels), (test_images, test_labels) = mnist.load_data()\n",
        "training_images=training_images/255.0\n",
        "test_images=test_images/255.0\n",
        "model = tf.keras.models.Sequential([\n",
        "  tf.keras.layers.Flatten(),\n",
        "  tf.keras.layers.Dense(512, activation=tf.nn.relu),\n",
        "  tf.keras.layers.Dense(10, activation=tf.nn.softmax)\n",
        "])\n",
        "model.compile(optimizer='adam', loss='sparse_categorical_crossentropy', metrics=['accuracy'])\n",
        "model.fit(training_images, training_labels, epochs=10, callbacks=[callbacks])\n",
        "\n",
        "\n"
      ],
      "execution_count": null,
      "outputs": [
        {
          "output_type": "stream",
          "name": "stdout",
          "text": [
            "2.15.0\n",
            "Epoch 1/10\n",
            "1875/1875 [==============================] - 20s 10ms/step - loss: 0.4745 - accuracy: 0.8313\n",
            "Epoch 2/10\n",
            "1875/1875 [==============================] - 15s 8ms/step - loss: 0.3564 - accuracy: 0.8702\n",
            "Epoch 3/10\n",
            "1875/1875 [==============================] - 16s 8ms/step - loss: 0.3222 - accuracy: 0.8823\n",
            "Epoch 4/10\n",
            "1875/1875 [==============================] - 15s 8ms/step - loss: 0.2995 - accuracy: 0.8895\n",
            "Epoch 5/10\n",
            "1875/1875 [==============================] - 15s 8ms/step - loss: 0.2800 - accuracy: 0.8964\n",
            "Epoch 6/10\n",
            "1872/1875 [============================>.] - ETA: 0s - loss: 0.2659 - accuracy: 0.9020\n",
            "Достигнуто 90% точночть, поэтому обучение остановлено!\n",
            "1875/1875 [==============================] - 15s 8ms/step - loss: 0.2658 - accuracy: 0.9021\n"
          ]
        },
        {
          "output_type": "execute_result",
          "data": {
            "text/plain": [
              "<keras.src.callbacks.History at 0x7bc6425fff10>"
            ]
          },
          "metadata": {},
          "execution_count": 28
        }
      ]
    }
  ]
}