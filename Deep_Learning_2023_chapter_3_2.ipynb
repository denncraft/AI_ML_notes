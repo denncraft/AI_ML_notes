{
  "nbformat": 4,
  "nbformat_minor": 0,
  "metadata": {
    "colab": {
      "provenance": [],
      "authorship_tag": "ABX9TyPATzUnP10A1WDVLn8PDKUO",
      "include_colab_link": true
    },
    "kernelspec": {
      "name": "python3",
      "display_name": "Python 3"
    },
    "language_info": {
      "name": "python"
    }
  },
  "cells": [
    {
      "cell_type": "markdown",
      "metadata": {
        "id": "view-in-github",
        "colab_type": "text"
      },
      "source": [
        "<a href=\"https://colab.research.google.com/github/denncraft/AI_ML_notes/blob/main/Deep_Learning_2023_chapter_3_2.ipynb\" target=\"_parent\"><img src=\"https://colab.research.google.com/assets/colab-badge.svg\" alt=\"Open In Colab\"/></a>"
      ]
    },
    {
      "cell_type": "markdown",
      "source": [
        "возвращаясь к примеру из chapter 2, где была написана модель  и класс NaiveDense\n",
        "\n",
        "если его переписать, базирруясь на классе keras -> layer"
      ],
      "metadata": {
        "id": "PoA3ycH-Eib_"
      }
    },
    {
      "cell_type": "code",
      "execution_count": 5,
      "metadata": {
        "id": "Xf-hcUMHDoG1"
      },
      "outputs": [],
      "source": [
        "import tensorflow as tf\n",
        "from tensorflow import keras\n",
        "import numpy as np\n",
        "\n",
        "# класс наследуется от класса `Layer`\n",
        "class SimpleDense(keras.layers.Layer):\n",
        "  def __init__(self, units, activation=None):\n",
        "    super().__init__()\n",
        "    self.units = units\n",
        "    self.activation = activation\n",
        "\n",
        "  # веса создаются в метоже build()\n",
        "  def build(self, input_shape):\n",
        "    input_dim = input_shape[-1]\n",
        "    self.W = self.add_weight(shape=(input_dim, self.units), initializer=\"random_normal\")\n",
        "    self.b = self.add_weight(shape=(self.units,), initializer=\"zeros\")\n",
        "\n",
        "  # вычисления прямого прохода определяются в метоже call()\n",
        "  def call(self, inputs):\n",
        "    y = tf.matmul(inputs, self.W) + self.b\n",
        "    if self.activation is not None:\n",
        "      y = self.activation(y)\n",
        "    return y\n"
      ]
    },
    {
      "cell_type": "markdown",
      "source": [
        "теперь создание слоя будет выглядеть так:\n",
        "\n",
        "причем при создании слоя мы определяем только его выходной размер, а размерность входных тензоров слоя определит сам и создаст соответствующей размерности тензоры для хранения коэффициентов.\n",
        "при этом мы даже не вызываем метод build(), он автоматически вызывается методом __call__."
      ],
      "metadata": {
        "id": "KWp-vJ67H-1v"
      }
    },
    {
      "cell_type": "code",
      "source": [
        "my_dense = SimpleDense(units=32, activation=tf.nn.relu)\n",
        "input_tensor = tf.ones(shape=(2,784)) # к примеру всего 2 элемента, но мы помним, что такая формы получалась после слоя flaten из (2, 28, 28)\n",
        "output_tensor = my_dense(input_tensor)\n",
        "\n",
        "print(output_tensor.shape)"
      ],
      "metadata": {
        "colab": {
          "base_uri": "https://localhost:8080/"
        },
        "id": "B0PAU1L4EX0i",
        "outputId": "79268e89-4d72-435c-abda-81a6f27adfd3"
      },
      "execution_count": 7,
      "outputs": [
        {
          "output_type": "stream",
          "name": "stdout",
          "text": [
            "(2, 32)\n"
          ]
        }
      ]
    },
    {
      "cell_type": "markdown",
      "source": [
        "#сети бывают:\n",
        "\n",
        "- сети с двумя ветвями (two-branches networks)\n",
        "- многоголовые сети (multihead networks)\n",
        "- входные блоки (inception blocks)\n",
        "\n",
        "#оптимизаторы:\n",
        "- SGD (с импульсом или без)\n",
        "- RMSprop\n",
        "- Adam\n",
        "- Adagrad\n",
        "- ...\n",
        "\n",
        "#функции потерь:\n",
        "- CategoricalCrossentropy\n",
        "- SparseCategoricalCrossEntropy\n",
        "- BinaryCrossentropy\n",
        "- MeanSquareError\n",
        "- KLDivergence\n",
        "- CosineSimilitary\n",
        "- ...\n",
        "\n",
        "#метрики:\n",
        "- CategicalAccuracy\n",
        "- SparceCategoricalAccuracy\n",
        "- BinaryAccuracy\n",
        "- AUC\n",
        "- Preccision\n",
        "- Recall\n",
        "- ...\n",
        "\n"
      ],
      "metadata": {
        "id": "o-DiqQWEPIr4"
      }
    },
    {
      "cell_type": "code",
      "source": [
        "num_samples_per_class = 1000\n",
        "negative_samples = np.random.multivariate_normal(\n",
        "    mean=[0, 3],\n",
        "    cov=[[1, 0.5],[0.5, 1]],\n",
        "    size=num_samples_per_class)\n",
        "positive_samples = np.random.multivariate_normal(\n",
        "    mean=[3, 0],\n",
        "    cov=[[1, 0.5],[0.5, 1]],\n",
        "    size=num_samples_per_class)\n",
        "inputs = np.vstack((negative_samples, positive_samples)).astype(np.float32)\n",
        "targets = np.vstack((np.zeros((num_samples_per_class, 1), dtype=\"float32\"),\n",
        "                     np.ones((num_samples_per_class, 1), dtype=\"float32\")))"
      ],
      "metadata": {
        "id": "tZOcT1dlnnQf"
      },
      "execution_count": null,
      "outputs": []
    },
    {
      "cell_type": "markdown",
      "source": [
        "разделим данные на две части 30/70 для обучение/валидации\n",
        "\n",
        "и перемешаем данные, чтобы данные для обучения были и не из начала и не из конца датасета,  а в перемешку"
      ],
      "metadata": {
        "id": "WQedd-p4TRTH"
      }
    },
    {
      "cell_type": "markdown",
      "source": [
        "обучим модель\n"
      ],
      "metadata": {
        "id": "CUwAiT_fWJNq"
      }
    },
    {
      "cell_type": "code",
      "source": [
        "model = keras.Sequential([keras.layers.Dense(1)])\n",
        "model.compile(optimizer=keras.optimizers.RMSprop(learning_rate=0.05),\n",
        "              loss=keras.losses.MeanSquaredError(),\n",
        "              metrics=[keras.metrics.BinaryAccuracy()])\n",
        "\n",
        "indices_permutation = np.random.permutation(len(inputs))\n",
        "shuffled_inputs = inputs[indices_permutation]\n",
        "shuffled_targets = targets[indices_permutation]\n",
        "\n",
        "num_validation_samples = int(0.3 * len(inputs))\n",
        "val_inputs = shuffled_inputs[:num_validation_samples]\n",
        "val_targets = shuffled_targets[:num_validation_samples]\n",
        "training_inputs = shuffled_inputs[num_validation_samples:]\n",
        "training_targets = shuffled_targets[num_validation_samples:]\n",
        "model.fit(\n",
        "    training_inputs,\n",
        "    training_targets,\n",
        "    epochs=10,\n",
        "    batch_size=16,\n",
        "    validation_data=(val_inputs, val_targets)\n",
        ")"
      ],
      "metadata": {
        "colab": {
          "base_uri": "https://localhost:8080/"
        },
        "id": "4KXs90Mmj86R",
        "outputId": "0d32b845-b41b-4b17-fd7e-bdc2f276a08e"
      },
      "execution_count": 24,
      "outputs": [
        {
          "output_type": "stream",
          "name": "stdout",
          "text": [
            "Epoch 1/10\n",
            "88/88 [==============================] - 1s 7ms/step - loss: 0.6135 - binary_accuracy: 0.9907 - val_loss: 0.0248 - val_binary_accuracy: 0.9983\n",
            "Epoch 2/10\n",
            "88/88 [==============================] - 0s 5ms/step - loss: 0.0382 - binary_accuracy: 0.9950 - val_loss: 0.0506 - val_binary_accuracy: 0.9983\n",
            "Epoch 3/10\n",
            "88/88 [==============================] - 0s 4ms/step - loss: 0.0380 - binary_accuracy: 0.9921 - val_loss: 0.0264 - val_binary_accuracy: 0.9983\n",
            "Epoch 4/10\n",
            "88/88 [==============================] - 0s 4ms/step - loss: 0.0368 - binary_accuracy: 0.9971 - val_loss: 0.0330 - val_binary_accuracy: 0.9983\n",
            "Epoch 5/10\n",
            "88/88 [==============================] - 0s 2ms/step - loss: 0.0403 - binary_accuracy: 0.9871 - val_loss: 0.1446 - val_binary_accuracy: 0.8500\n",
            "Epoch 6/10\n",
            "88/88 [==============================] - 0s 2ms/step - loss: 0.0365 - binary_accuracy: 0.9943 - val_loss: 0.0269 - val_binary_accuracy: 0.9983\n",
            "Epoch 7/10\n",
            "88/88 [==============================] - 0s 2ms/step - loss: 0.0375 - binary_accuracy: 0.9943 - val_loss: 0.0332 - val_binary_accuracy: 0.9950\n",
            "Epoch 8/10\n",
            "88/88 [==============================] - 0s 2ms/step - loss: 0.0382 - binary_accuracy: 0.9907 - val_loss: 0.0276 - val_binary_accuracy: 0.9983\n",
            "Epoch 9/10\n",
            "88/88 [==============================] - 0s 3ms/step - loss: 0.0394 - binary_accuracy: 0.9886 - val_loss: 0.0531 - val_binary_accuracy: 0.9900\n",
            "Epoch 10/10\n",
            "88/88 [==============================] - 0s 2ms/step - loss: 0.0378 - binary_accuracy: 0.9936 - val_loss: 0.0256 - val_binary_accuracy: 0.9983\n"
          ]
        },
        {
          "output_type": "execute_result",
          "data": {
            "text/plain": [
              "<keras.src.callbacks.History at 0x78d840d15510>"
            ]
          },
          "metadata": {},
          "execution_count": 24
        }
      ]
    },
    {
      "cell_type": "code",
      "source": [
        "predictions = model.predict(val_inputs, batch_size=128)\n",
        "print(predictions[:10])"
      ],
      "metadata": {
        "colab": {
          "base_uri": "https://localhost:8080/"
        },
        "id": "cITlClOem8Fq",
        "outputId": "60012c12-faca-4de7-f714-2182a5571a89"
      },
      "execution_count": 25,
      "outputs": [
        {
          "output_type": "stream",
          "name": "stdout",
          "text": [
            "5/5 [==============================] - 0s 2ms/step\n",
            "[[-0.04030961]\n",
            " [ 1.1462681 ]\n",
            " [-0.01229393]\n",
            " [-0.12701714]\n",
            " [ 1.1972651 ]\n",
            " [ 0.74778813]\n",
            " [-0.18762553]\n",
            " [ 1.0157523 ]\n",
            " [ 0.10992399]\n",
            " [ 0.73033553]]\n"
          ]
        }
      ]
    }
  ]
}