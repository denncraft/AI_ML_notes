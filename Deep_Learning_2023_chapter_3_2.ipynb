{
  "nbformat": 4,
  "nbformat_minor": 0,
  "metadata": {
    "colab": {
      "provenance": [],
      "authorship_tag": "ABX9TyOXORP38BJEBRAyztDySBD+",
      "include_colab_link": true
    },
    "kernelspec": {
      "name": "python3",
      "display_name": "Python 3"
    },
    "language_info": {
      "name": "python"
    }
  },
  "cells": [
    {
      "cell_type": "markdown",
      "metadata": {
        "id": "view-in-github",
        "colab_type": "text"
      },
      "source": [
        "<a href=\"https://colab.research.google.com/github/denncraft/AI_ML_notes/blob/main/Deep_Learning_2023_chapter_3_2.ipynb\" target=\"_parent\"><img src=\"https://colab.research.google.com/assets/colab-badge.svg\" alt=\"Open In Colab\"/></a>"
      ]
    },
    {
      "cell_type": "markdown",
      "source": [
        "возвращаясь к примеру из chapter 2, где была написана модель  и класс NaiveDense\n",
        "\n",
        "если его переписать, базирруясь на классе keras -> layer"
      ],
      "metadata": {
        "id": "PoA3ycH-Eib_"
      }
    },
    {
      "cell_type": "code",
      "execution_count": 5,
      "metadata": {
        "id": "Xf-hcUMHDoG1"
      },
      "outputs": [],
      "source": [
        "import tensorflow as tf\n",
        "from tensorflow import keras\n",
        "import numpy as np\n",
        "\n",
        "# класс наследуется от класса `Layer`\n",
        "class SimpleDense(keras.layers.Layer):\n",
        "  def __init__(self, units, activation=None):\n",
        "    super().__init__()\n",
        "    self.units = units\n",
        "    self.activation = activation\n",
        "\n",
        "  # веса создаются в метоже build()\n",
        "  def build(self, input_shape):\n",
        "    input_dim = input_shape[-1]\n",
        "    self.W = self.add_weight(shape=(input_dim, self.units), initializer=\"random_normal\")\n",
        "    self.b = self.add_weight(shape=(self.units,), initializer=\"zeros\")\n",
        "\n",
        "  # вычисления прямого прохода определяются в метоже call()\n",
        "  def call(self, inputs):\n",
        "    y = tf.matmul(inputs, self.W) + self.b\n",
        "    if self.activation is not None:\n",
        "      y = self.activation(y)\n",
        "    return y\n"
      ]
    },
    {
      "cell_type": "markdown",
      "source": [
        "теперь создание слоя будет выглядеть так:\n",
        "\n",
        "причем при создании слоя мы определяем только его выходной размер, а размерность входных тензоров слоя определит сам и создаст соответствующей размерности тензоры для хранения коэффициентов.\n",
        "при этом мы даже не вызываем метод build(), он автоматически вызывается методом __call__."
      ],
      "metadata": {
        "id": "KWp-vJ67H-1v"
      }
    },
    {
      "cell_type": "code",
      "source": [
        "my_dense = SimpleDense(units=32, activation=tf.nn.relu)\n",
        "input_tensor = tf.ones(shape=(2,784)) # к примеру всего 2 элемента, но мы помним, что такая формы получалась после слоя flaten из (2, 28, 28)\n",
        "output_tensor = my_dense(input_tensor)\n",
        "\n",
        "print(output_tensor.shape)"
      ],
      "metadata": {
        "colab": {
          "base_uri": "https://localhost:8080/"
        },
        "id": "B0PAU1L4EX0i",
        "outputId": "79268e89-4d72-435c-abda-81a6f27adfd3"
      },
      "execution_count": 7,
      "outputs": [
        {
          "output_type": "stream",
          "name": "stdout",
          "text": [
            "(2, 32)\n"
          ]
        }
      ]
    },
    {
      "cell_type": "markdown",
      "source": [
        "#сети бывают:\n",
        "\n",
        "- сети с двумя ветвями (two-branches networks)\n",
        "- многоголовые сети (multihead networks)\n",
        "- входные блоки (inception blocks)\n",
        "\n",
        "#оптимизаторы:\n",
        "- SGD (с импульсом или без)\n",
        "- RMSprop\n",
        "- Adam\n",
        "- Adagrad\n",
        "- ...\n",
        "\n",
        "#функции потерь:\n",
        "- CategoricalCrossentropy\n",
        "- SparseCategoricalCrossEntropy\n",
        "- BinaryCrossentropy\n",
        "- MeanSquareError\n",
        "- KLDivergence\n",
        "- CosineSimilitary\n",
        "- ...\n",
        "\n",
        "#метрики:\n",
        "- CategicalAccuracy\n",
        "- SparceCategoricalAccuracy\n",
        "- BinaryAccuracy\n",
        "- AUC\n",
        "- Preccision\n",
        "- Recall\n",
        "- ...\n",
        "\n"
      ],
      "metadata": {
        "id": "o-DiqQWEPIr4"
      }
    },
    {
      "cell_type": "code",
      "source": [
        "from keras.datasets import mnist\n",
        "(inputs, targets), (test_images, test_labels) = mnist.load_data()"
      ],
      "metadata": {
        "id": "FappDe3PRVQa"
      },
      "execution_count": 9,
      "outputs": []
    },
    {
      "cell_type": "code",
      "source": [
        "inputs = inputs.reshape((60000, 784))\n",
        "inputs = inputs.astype(\"float32\") / 255"
      ],
      "metadata": {
        "id": "efrg8vVeT5kx"
      },
      "execution_count": 11,
      "outputs": []
    },
    {
      "cell_type": "markdown",
      "source": [
        "разделим данные на две части 30/70 для обучение/валидации\n",
        "\n",
        "и перемешаем данные, чтобы вданные для обучения были не из начала или конца а вперемешку"
      ],
      "metadata": {
        "id": "WQedd-p4TRTH"
      }
    },
    {
      "cell_type": "markdown",
      "source": [
        "обучим модель\n"
      ],
      "metadata": {
        "id": "CUwAiT_fWJNq"
      }
    },
    {
      "cell_type": "code",
      "source": [
        "model = keras.Sequential([keras.layers.Dense(10)])\n",
        "model.compile(optimizer=keras.optimizers.RMSprop(learning_rate=0.01),\n",
        "              loss=keras.losses.MeanSquaredError(),\n",
        "              metrics=[keras.metrics.BinaryAccuracy()])\n",
        "\n",
        "indices_permutation = np.random.permutation(len(inputs))\n",
        "shuffled_inputs = inputs[indices_permutation]\n",
        "shuffled_targets = targets[indices_permutation]\n",
        "\n",
        "num_validation_samples = int(0.3 * len(inputs))\n",
        "val_inputs = shuffled_inputs[:num_validation_samples]\n",
        "val_targets = shuffled_targets[:num_validation_samples]\n",
        "training_inputs = shuffled_inputs[num_validation_samples:]\n",
        "training_targets = shuffled_targets[num_validation_samples:]\n",
        "model.fit(\n",
        "    training_inputs,\n",
        "    training_targets,\n",
        "    epochs=50,\n",
        "    batch_size=128,\n",
        "    validation_data=(val_inputs, val_targets)\n",
        ")"
      ],
      "metadata": {
        "id": "4KXs90Mmj86R"
      },
      "execution_count": null,
      "outputs": []
    }
  ]
}